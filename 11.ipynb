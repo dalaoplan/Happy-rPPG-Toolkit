{
 "cells": [
  {
   "cell_type": "code",
   "execution_count": 1,
   "id": "2526d265",
   "metadata": {},
   "outputs": [
    {
     "name": "stdout",
     "output_type": "stream",
     "text": [
      "['pred', 'label']\n",
      "pred len:1776\n",
      "label len:1800\n"
     ]
    }
   ],
   "source": [
    "import numpy as np\n",
    "\n",
    "# 读取 npz 文件\n",
    "data = np.load(r'D:\\Happy-rPPG-Toolkit\\result\\signal\\TSDMFormer1\\UBFCrPPG_sceneRaw_UBFCrPPG_sceneRaw_seed42_augTH\\signal_8.npz')\n",
    "\n",
    "# 查看包含哪些数组\n",
    "print(data.files)\n",
    "\n",
    "# 假设里面有 'pred' 和 'label'\n",
    "pred = data['pred']\n",
    "label = data['label']\n",
    "\n",
    "print(f'pred len:{len(pred)}')\n",
    "print(f'label len:{len(label)}')\n"
   ]
  }
 ],
 "metadata": {
  "kernelspec": {
   "display_name": "py39",
   "language": "python",
   "name": "python3"
  },
  "language_info": {
   "codemirror_mode": {
    "name": "ipython",
    "version": 3
   },
   "file_extension": ".py",
   "mimetype": "text/x-python",
   "name": "python",
   "nbconvert_exporter": "python",
   "pygments_lexer": "ipython3",
   "version": "3.9.19"
  }
 },
 "nbformat": 4,
 "nbformat_minor": 5
}
